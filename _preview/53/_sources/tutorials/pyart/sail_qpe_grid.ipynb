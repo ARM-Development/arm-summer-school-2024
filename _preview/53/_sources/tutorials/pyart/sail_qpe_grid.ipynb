{
 "cells": [
  {
   "cell_type": "markdown",
   "id": "fa933168-2433-421d-aa02-d65324c5ecd0",
   "metadata": {},
   "source": [
    "<img src=\"../images/logos/arm_logo.png\" width=500 alt=\"ARM Logo\"></img>"
   ]
  },
  {
   "cell_type": "markdown",
   "id": "e52504ca",
   "metadata": {},
   "source": [
    "# Snowfall Retrievals from SAIL X-Band Radar"
   ]
  },
  {
   "cell_type": "code",
   "execution_count": 2,
   "id": "496972cc",
   "metadata": {
    "scrolled": true
   },
   "outputs": [
    {
     "name": "stdout",
     "output_type": "stream",
     "text": [
      "\n",
      "## You are using the Python ARM Radar Toolkit (Py-ART), an open source\n",
      "## library for working with weather radar data. Py-ART is partly\n",
      "## supported by the U.S. Department of Energy as part of the Atmospheric\n",
      "## Radiation Measurement (ARM) Climate Research Facility, an Office of\n",
      "## Science user facility.\n",
      "##\n",
      "## If you use this software to prepare a publication, please cite:\n",
      "##\n",
      "##     JJ Helmus and SM Collis, JORS 2016, doi: 10.5334/jors.119\n",
      "\n"
     ]
    }
   ],
   "source": [
    "import warnings\n",
    "warnings.simplefilter(\"ignore\", UserWarning)\n",
    "\n",
    "import glob\n",
    "import os\n",
    "import datetime\n",
    "\n",
    "import numpy as np\n",
    "import matplotlib.pyplot as plt\n",
    "import pyart\n",
    "import xarray as xr\n",
    "from matplotlib.dates import DateFormatter\n",
    "\n",
    "from metpy.plots import USCOUNTIES\n",
    "\n",
    "import cartopy.crs as ccrs\n",
    "import cartopy.feature as cfeature"
   ]
  },
  {
   "cell_type": "markdown",
   "id": "1dbbf233",
   "metadata": {
    "tags": []
   },
   "source": [
    "## Radar Reflectivity - Snowfall (Z-S) Relationships\n",
    "We setup helper functions to calculate the snowfall retrieval, using following notation:\n",
    "\n",
    "$Z = A*S ^ {B}$\n",
    "\n",
    "Where:\n",
    "- Z = Reflectivity in dBZ\n",
    "- A = Coefficient applied to Z-S Relationship (not in the exponent)\n",
    "- S = Liquid snowfall rate\n",
    "- B = Coefficient applied to Z-S Relationship (in the exponent)\n",
    "\n",
    "We also need to apply a snow water equivalent ratio (`swe`) to convert from liquid to snow (ex. 8 inches of snow --> 1 inch of rain would be 8.0).\n",
    "\n",
    "This equation now becomes:\n",
    "\n",
    "$Z = swe*A*S ^ {B}$\n",
    "\n",
    "Solving for S, we get:\n",
    "\n",
    "$S = swe * (\\frac{z}{a})^{1/B}$\n",
    "\n",
    "Where z is reflectivity in units of dB ($z =10^{Z/10}$)"
   ]
  },
  {
   "cell_type": "markdown",
   "id": "52a6fe08-f165-4440-801c-beb270a5c678",
   "metadata": {},
   "source": [
    "## Define our Z-S Relationships\n",
    "\n",
    "We start by using the Z-S Relationships Described in [Bukovčić et al. (2018)](https://doi.org/10.1175/JAMC-D-17-0090.1), where we refer to following relationships in Table 1:\n",
    "\n",
    "| Source                      | Z(S) relation for dry snow  | A Coefficient | B Coefficient | Radar Band |\n",
    "| :---                        |           :----:            |          ---: | :---------:   | :----:     |\n",
    "| Wolfe and Snider (2012)     | $Z = {110}S^{2}$            | 110           |  2            | S          |\n",
    "| WSR-88D high plains         | $Z = {130}S^{2}$            | 130           |  2            | S          |\n",
    "| WSR-88D Intermountain West  | $Z = {40}S^{2}$             | 40            |  2            | S          |\n",
    "| Matrosov et al.(2009) Braham(1990)   | $Z = {67}S^{1.28}$ | 67            |  1.28         | X          |\n",
    "| Matrosov et al.(2009) Braham(1990)   | $Z = {114}S^{1.39}$| 114           |  1.39         | X          |\n",
    "| Matrosov et al.(2009) Braham(1990)   | $Z = {136}S^{1.3}$ | 136           |  1.3          | X          |\n",
    "| Matrosov et al.(2009) Braham(1990)   | $Z = {28}S^{1.44}$ | 28            |  1.44         | X          |\n",
    "| Matrosov et al.(2009) Braham(1990)   | $Z = {36}S^{1.56}$ | 36            |  1.56         | X          |\n",
    "| Matrosov et al.(2009) Braham(1990)   | $Z = {48}S^{1.45}$ | 48            |  1.45         | X          |\n",
    "| Matrosov (1992)             | $Z = {410}S^{1.6}$          | 410           |  1.6          | X          |\n",
    "| Matrosov (1992)             | $Z = {340}S^{1.6}$          | 340           |  1.75         | X          |\n",
    "| Matrosov (1992)             | $Z = {240}S^{1.6}$          | 240           |  1.95         | X          |\n",
    "| Boucher and Wieler (1985)   | $Z = {229}S^{1.65}$         | 229           |  1.65         | X          |\n",
    "| Fujiyoshi et al. (1990)     | $Z = {427}S^{1.09}$         | 427           |  1.09         | X          |\n",
    "| Puhakka (1975)              | $Z = {1050}S^{2}$           | 1050          |  2            | X          |\n",
    "| Sekhon and Srivastava (1970)| $Z = {1780}S^{2.21}$        | 1780          |  2.21         | X          |\n"
   ]
  },
  {
   "cell_type": "markdown",
   "id": "a3f43284-59c1-4e80-bdfe-3a4b373b5c58",
   "metadata": {},
   "source": [
    "## List the Available Files\n",
    "We will use files on the Oak Ridge Laboratory Computing Facility (ORLCF), within the shared SAIL directory `/gpfs/wolf/atm124/proj-shared/sail`.\n",
    "\n",
    "These radar files have been merged from a single sweep in each file, to whole volume scans in each file."
   ]
  },
  {
   "cell_type": "code",
   "execution_count": 3,
   "id": "d17b6a9b-4a2e-431e-b4b5-0729c19a7934",
   "metadata": {},
   "outputs": [],
   "source": [
    "file_list = sorted(glob.glob(\"/data/project/ARM_Summer_School_2024_Data/sail/radar/*\"))"
   ]
  },
  {
   "cell_type": "code",
   "execution_count": 5,
   "id": "14f86016-9679-4253-8943-b1c86fc2b8f8",
   "metadata": {},
   "outputs": [
    {
     "data": {
      "text/plain": [
       "['/data/project/ARM_Summer_School_2024_Data/sail/radar/gucxprecipradarcmacS2.c1.20220310.000206.nc',\n",
       " '/data/project/ARM_Summer_School_2024_Data/sail/radar/gucxprecipradarcmacS2.c1.20220310.000726.nc',\n",
       " '/data/project/ARM_Summer_School_2024_Data/sail/radar/gucxprecipradarcmacS2.c1.20220310.001246.nc',\n",
       " '/data/project/ARM_Summer_School_2024_Data/sail/radar/gucxprecipradarcmacS2.c1.20220310.001806.nc',\n",
       " '/data/project/ARM_Summer_School_2024_Data/sail/radar/gucxprecipradarcmacS2.c1.20220310.002326.nc',\n",
       " '/data/project/ARM_Summer_School_2024_Data/sail/radar/gucxprecipradarcmacS2.c1.20220310.002846.nc',\n",
       " '/data/project/ARM_Summer_School_2024_Data/sail/radar/gucxprecipradarcmacS2.c1.20220310.003406.nc',\n",
       " '/data/project/ARM_Summer_School_2024_Data/sail/radar/gucxprecipradarcmacS2.c1.20220310.003926.nc',\n",
       " '/data/project/ARM_Summer_School_2024_Data/sail/radar/gucxprecipradarcmacS2.c1.20220310.004446.nc',\n",
       " '/data/project/ARM_Summer_School_2024_Data/sail/radar/gucxprecipradarcmacS2.c1.20220310.005006.nc']"
      ]
     },
     "execution_count": 5,
     "metadata": {},
     "output_type": "execute_result"
    }
   ],
   "source": [
    "file_list[0:10]"
   ]
  },
  {
   "cell_type": "markdown",
   "id": "1bd72506-352a-4e2a-a53c-a3ea709ceff3",
   "metadata": {},
   "source": [
    "## Your Turn!"
   ]
  },
  {
   "cell_type": "markdown",
   "id": "0f02d12e-cb88-4343-aa50-53b9f32429fd",
   "metadata": {},
   "source": [
    "<div class=\"admonition alert alert-success\">\n",
    "    <p class=\"admonition-title\" style=\"font-weight:bold\">Question 1 - Easy</p>\n",
    "    Using material presented this week, apply one of the above relationships to SAIL X-Band radar file and display\n",
    "</div>"
   ]
  },
  {
   "cell_type": "markdown",
   "id": "9b4b69a0-a13b-4a38-888f-840ac766c753",
   "metadata": {},
   "source": [
    "<div class=\"admonition alert alert-warning\">\n",
    "    <p class=\"admonition-title\" style=\"font-weight:bold\">Question 2 - Intermediate</p>\n",
    "    Using the above methodology, calculate the snowfall accumulation for an hour (or day) \n",
    "</div>"
   ]
  },
  {
   "cell_type": "markdown",
   "id": "f8842963-eaa6-440f-858f-fa000efe4a3d",
   "metadata": {},
   "source": [
    "<div class=\"admonition alert alert-danger\">\n",
    "    <p class=\"admonition-title\" style=\"font-weight:bold\">Question 3 - Hard</p>\n",
    "    Compare this hourly (or daily) accumulation to WRF output for the same day"
   ]
  }
 ],
 "metadata": {
  "kernelspec": {
   "display_name": "Python [conda env:.conda-open-science-rockies-2022-dev]",
   "language": "python",
   "name": "conda-env-.conda-open-science-rockies-2022-dev-py"
  },
  "language_info": {
   "codemirror_mode": {
    "name": "ipython",
    "version": 3
   },
   "file_extension": ".py",
   "mimetype": "text/x-python",
   "name": "python",
   "nbconvert_exporter": "python",
   "pygments_lexer": "ipython3",
   "version": "3.9.17"
  }
 },
 "nbformat": 4,
 "nbformat_minor": 5
}
