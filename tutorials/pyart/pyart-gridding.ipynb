{
 "cells": [
  {
   "cell_type": "markdown",
   "metadata": {},
   "source": [
    "<img src=\"../images/logos/arm_logo.png\" width=500 alt=\"ARM Logo\"></img>"
   ]
  },
  {
   "cell_type": "markdown",
   "metadata": {
    "tags": []
   },
   "source": [
    "# Py-ART Gridding \n",
    "---"
   ]
  },
  {
   "cell_type": "markdown",
   "metadata": {},
   "source": [
    "## Overview\n",
    "   \n",
    "Within this notebook, we will cover:\n",
    "\n",
    "1. What is gridding and why is it important?\n",
    "1. An overview of gridding with Py-ART  \n",
    "1. Test out a different gridding routine\n",
    "1. Apply Gridding to a Selection of Files\n"
   ]
  },
  {
   "cell_type": "markdown",
   "metadata": {
    "tags": []
   },
   "source": [
    "## Prerequisites\n",
    "| Concepts | Importance | Notes |\n",
    "| --- | --- | --- |\n",
    "| [Py-ART Basics](pyart-basics) | Helpful | Basic features |\n",
    "| [Intro to Cartopy](https://foundations.projectpythia.org/core/cartopy/cartopy.html) | Helpful | Basic features |\n",
    "| [Matplotlib Basics](https://foundations.projectpythia.org/core/matplotlib/matplotlib-basics.html) | Helpful | Basic plotting |\n",
    "| [NumPy Basics](https://foundations.projectpythia.org/core/numpy/numpy-basics.html) | Helpful | Basic arrays |\n",
    "\n",
    "- **Time to learn**: 15 minutes\n",
    "---"
   ]
  },
  {
   "cell_type": "markdown",
   "metadata": {},
   "source": [
    "## Imports"
   ]
  },
  {
   "cell_type": "code",
   "execution_count": null,
   "metadata": {
    "tags": []
   },
   "outputs": [],
   "source": [
    "import os\n",
    "from pathlib import Path\n",
    "import glob\n",
    "import warnings\n",
    "\n",
    "import cartopy.crs as ccrs\n",
    "import matplotlib.pyplot as plt\n",
    "\n",
    "\n",
    "import pyart\n",
    "import xarray as xr\n",
    "\n",
    "warnings.filterwarnings('ignore')"
   ]
  },
  {
   "cell_type": "markdown",
   "metadata": {},
   "source": [
    "## What is gridding and why is it important?"
   ]
  },
  {
   "cell_type": "markdown",
   "metadata": {
    "tags": []
   },
   "source": [
    "### Antenna vs. Cartesian Coordinates\n",
    "\n",
    "Radar data, by default, is stored in a **polar (or antenna) coordinate system**, with the data coordinates stored as an angle (ranging from 0 to 360 degrees with 0 == North), and a radius from the radar, and an elevation which is the angle between the ground and the ground.\n",
    "\n",
    "This format can be challenging to plot, since it is scan/radar specific. Also, it can make comparing with model data, which is on a lat/lon grid, challenging since one would need to **transform** the model daa cartesian coordinates to polar/antenna coordiantes.\n",
    "\n",
    "Fortunately, PyART has a variety of gridding routines, which can be used to **grid your data to a Cartesian grid**. Once it is in this new grid, one can easily slice/dice the dataset, and compare to other data sources.\n",
    "\n",
    "### Why is Gridding Important?\n",
    "\n",
    "Gridding is essential to combining multiple data sources (ex. multiple radars), and comparing to other data sources (ex. model data). There are also decisions that are made during the gridding process that have a large impact on the regridded data - for example:\n",
    "- What resolution should my grid be?\n",
    "- Which interpolation routine should I use?\n",
    "- How smooth should my interpolated data be?\n",
    "\n",
    "While there is not always a right or wrong answer, it is important to understand the options available, and document which routine you used with your data! Also - experiment with different options and choose the best for your use case!\n",
    "\n"
   ]
  },
  {
   "cell_type": "markdown",
   "metadata": {},
   "source": [
    "## An overview of gridding with Py-ART\n",
    "Let's dig into the regridding process with PyART!"
   ]
  },
  {
   "cell_type": "markdown",
   "metadata": {},
   "source": [
    "### Read in and Visualize a Test Dataset\n",
    "Let's start with the same file used in the previous notebook (`PyART Basics`), which is a radar file from Northern Oklahoma."
   ]
  },
  {
   "cell_type": "code",
   "execution_count": null,
   "metadata": {
    "tags": []
   },
   "outputs": [],
   "source": [
    "file = \"../data/cacti/radar/corcsapr2cmacppiM1.c1.20190125.200003.nc\"\n",
    "radar = pyart.io.read(file)"
   ]
  },
  {
   "cell_type": "markdown",
   "metadata": {},
   "source": [
    "Let's plot up quick look of reflectivity, at the lowest elevation scan (closest to the ground)"
   ]
  },
  {
   "cell_type": "code",
   "execution_count": null,
   "metadata": {
    "tags": []
   },
   "outputs": [],
   "source": [
    "fig = plt.figure(figsize=[8, 6])\n",
    "display = pyart.graph.RadarDisplay(radar)\n",
    "display.plot_ppi('attenuation_corrected_reflectivity_h',\n",
    "                 cmap='pyart_HomeyerRainbow')"
   ]
  },
  {
   "cell_type": "markdown",
   "metadata": {},
   "source": [
    "As mentioned before, the dataset is currently in the **antenna coordinate system** measured as distance from the radar"
   ]
  },
  {
   "cell_type": "markdown",
   "metadata": {},
   "source": [
    "### Setup our Gridding Routine with `pyart.map.grid_from_radars()`\n",
    "\n",
    "Py-ART has the [Grid object](https://arm-doe.github.io/pyart/API/generated/pyart.core.Grid.html#pyart.core.Grid) which has characteristics similar to that of the [Radar object](https://arm-doe.github.io/pyart/API/generated/pyart.core.Radar.html), except that the data are stored in Cartesian coordinates instead of the radar's antenna coordinates."
   ]
  },
  {
   "cell_type": "code",
   "execution_count": null,
   "metadata": {
    "tags": []
   },
   "outputs": [],
   "source": [
    "pyart.core.Grid?"
   ]
  },
  {
   "cell_type": "markdown",
   "metadata": {},
   "source": [
    "We can **transform our data** into this grid object, from the radars, using `pyart.map.grid_from_radars()`.\n",
    "\n",
    "Beforing gridding our data, we need to make a decision about the desired grid resolution and extent. For example, one might imagine a grid configuration of:\n",
    "- Grid extent/limits\n",
    "    - 20 km in the x-direction (north/south)\n",
    "    - 20 km in the y-direction (west/east)\n",
    "    - 15 km in the z-direction (vertical)\n",
    "- 500 m spatial resolution\n",
    "\n",
    "The `pyart.map.grid_from_radars()` function takes the grid shape and grid limits as input, with the order `(z, y, x)`.\n",
    "\n",
    "Let's setup our configuration, setting our grid extent **first**, with the distance measured in **meters**"
   ]
  },
  {
   "cell_type": "code",
   "execution_count": null,
   "metadata": {
    "tags": []
   },
   "outputs": [],
   "source": [
    "z_grid_limits = (0.,20_000.)\n",
    "y_grid_limits = (-150_000.,150_000.)\n",
    "x_grid_limits = (-150_000.,150_000.)"
   ]
  },
  {
   "cell_type": "markdown",
   "metadata": {},
   "source": [
    "Now that we have our grid limits, we can set our desired resolution (again, in meters)"
   ]
  },
  {
   "cell_type": "code",
   "execution_count": null,
   "metadata": {
    "tags": []
   },
   "outputs": [],
   "source": [
    "grid_resolution = 500"
   ]
  },
  {
   "cell_type": "markdown",
   "metadata": {},
   "source": [
    "Let's compute our grid shape - using the extent and resolution to compute the number of grid points in each direction."
   ]
  },
  {
   "cell_type": "code",
   "execution_count": null,
   "metadata": {
    "tags": []
   },
   "outputs": [],
   "source": [
    "def compute_number_of_points(extent, resolution):\n",
    "    return int((extent[1] - extent[0])/resolution) + 1"
   ]
  },
  {
   "cell_type": "markdown",
   "metadata": {},
   "source": [
    "Now that we have a helper function to compute this, let's apply it to our vertical dimension"
   ]
  },
  {
   "cell_type": "code",
   "execution_count": null,
   "metadata": {
    "tags": []
   },
   "outputs": [],
   "source": [
    "z_grid_points = compute_number_of_points(z_grid_limits, grid_resolution)\n",
    "z_grid_points"
   ]
  },
  {
   "cell_type": "markdown",
   "metadata": {},
   "source": [
    "We can apply this to the horizontal (x, y) dimensions as well."
   ]
  },
  {
   "cell_type": "code",
   "execution_count": null,
   "metadata": {
    "tags": []
   },
   "outputs": [],
   "source": [
    "x_grid_points = compute_number_of_points(x_grid_limits, grid_resolution)\n",
    "y_grid_points = compute_number_of_points(y_grid_limits, grid_resolution)\n",
    "\n",
    "print(z_grid_points,\n",
    "      y_grid_points,\n",
    "      x_grid_points)"
   ]
  },
  {
   "cell_type": "markdown",
   "metadata": {},
   "source": [
    "#### Use our configuration to grid the data!\n",
    "Now that we have the grid shape and grid limits, let's grid up our radar!"
   ]
  },
  {
   "cell_type": "code",
   "execution_count": null,
   "metadata": {
    "tags": []
   },
   "outputs": [],
   "source": [
    "grid = pyart.map.grid_from_radars(radar,\n",
    "                                  grid_shape=(z_grid_points,\n",
    "                                              y_grid_points,\n",
    "                                              x_grid_points),\n",
    "                                  grid_limits=(z_grid_limits,\n",
    "                                               y_grid_limits,\n",
    "                                               x_grid_limits),\n",
    "                                  gridding_algo='map_gates_to_grid',\n",
    "                                  min_radius=200.\n",
    "                                 )\n",
    "grid"
   ]
  },
  {
   "cell_type": "markdown",
   "metadata": {},
   "source": [
    "We now have a `pyart.core.Grid` object!"
   ]
  },
  {
   "cell_type": "markdown",
   "metadata": {},
   "source": [
    "### Plot up the Grid Object\n",
    "\n",
    "#### Plot a horizontal view of the data\n",
    "We can use the `GridMapDisplay` from `pyart.graph` to visualize our regridded data, starting with a horizontal view (slice along a single vertical level)"
   ]
  },
  {
   "cell_type": "code",
   "execution_count": null,
   "metadata": {
    "tags": []
   },
   "outputs": [],
   "source": [
    "display = pyart.graph.GridMapDisplay(grid)\n",
    "display.plot_grid('attenuation_corrected_reflectivity_h',\n",
    "                  level=2,\n",
    "                  vmin=-20,\n",
    "                  vmax=60,\n",
    "                  cmap='pyart_HomeyerRainbow')"
   ]
  },
  {
   "cell_type": "markdown",
   "metadata": {},
   "source": [
    "#### Plot a Latitudinal Slice"
   ]
  },
  {
   "cell_type": "markdown",
   "metadata": {},
   "source": [
    "We can also slice through a single latitude or longitude!"
   ]
  },
  {
   "cell_type": "code",
   "execution_count": null,
   "metadata": {
    "tags": []
   },
   "outputs": [],
   "source": [
    "display.plot_latitude_slice('attenuation_corrected_reflectivity_h',\n",
    "                            lat=-31.8,\n",
    "                            vmin=-20,\n",
    "                            vmax=80,\n",
    "                            cmap='pyart_HomeyerRainbow')\n",
    "plt.xlim([0, 40]);"
   ]
  },
  {
   "cell_type": "markdown",
   "metadata": {},
   "source": [
    "#### Plot with Xarray"
   ]
  },
  {
   "cell_type": "markdown",
   "metadata": {},
   "source": [
    "Another neat feature of the `Grid` object is that we can transform it to an `xarray.Dataset`!"
   ]
  },
  {
   "cell_type": "code",
   "execution_count": null,
   "metadata": {
    "tags": []
   },
   "outputs": [],
   "source": [
    "ds = grid.to_xarray()\n",
    "ds"
   ]
  },
  {
   "cell_type": "markdown",
   "metadata": {},
   "source": [
    "Now, our plotting routine is a **one-liner**, starting with the horizontal slice:"
   ]
  },
  {
   "cell_type": "code",
   "execution_count": null,
   "metadata": {
    "tags": []
   },
   "outputs": [],
   "source": [
    "ds.isel(z=2).attenuation_corrected_reflectivity_h.plot(cmap='pyart_HomeyerRainbow',\n",
    "                                                       vmin=-20,\n",
    "                                                       vmax=80);"
   ]
  },
  {
   "cell_type": "markdown",
   "metadata": {},
   "source": [
    "And a vertical slice at a given y dimension (latitude)"
   ]
  },
  {
   "cell_type": "code",
   "execution_count": null,
   "metadata": {
    "tags": []
   },
   "outputs": [],
   "source": [
    "ds.sel(y=40_000,\n",
    "       method='nearest').attenuation_corrected_reflectivity_h.plot(cmap='pyart_HomeyerRainbow',\n",
    "                                           vmin=-20,\n",
    "                                           vmax=80);\n",
    "plt.xlim(0, 50_000)"
   ]
  },
  {
   "cell_type": "markdown",
   "metadata": {},
   "source": [
    "### Try a Different Gridding Technique"
   ]
  },
  {
   "cell_type": "code",
   "execution_count": null,
   "metadata": {
    "tags": []
   },
   "outputs": [],
   "source": [
    "nearest_grid = pyart.map.grid_from_radars(radar,\n",
    "                                  grid_shape=(z_grid_points,\n",
    "                                              y_grid_points,\n",
    "                                              x_grid_points),\n",
    "                                  grid_limits=(z_grid_limits,\n",
    "                                               y_grid_limits,\n",
    "                                               x_grid_limits),\n",
    "                                  weighting_function='Nearest',\n",
    "                                  min_radius=200.\n",
    "                                 )"
   ]
  },
  {
   "cell_type": "code",
   "execution_count": null,
   "metadata": {
    "tags": []
   },
   "outputs": [],
   "source": [
    "display.plot_latitude_slice('attenuation_corrected_reflectivity_h',\n",
    "                            lat=-31.8,\n",
    "                            vmin=-20,\n",
    "                            vmax=80,\n",
    "                            cmap='pyart_HomeyerRainbow')\n",
    "plt.xlim([0, 40]);"
   ]
  },
  {
   "cell_type": "code",
   "execution_count": null,
   "metadata": {
    "tags": []
   },
   "outputs": [],
   "source": [
    "display = pyart.graph.GridMapDisplay(nearest_grid)\n",
    "display.plot_latitude_slice('attenuation_corrected_reflectivity_h',\n",
    "                            lat=-31.8,\n",
    "                            vmin=-20,\n",
    "                            vmax=80,\n",
    "                            cmap='pyart_HomeyerRainbow')\n",
    "plt.xlim([0, 40]);"
   ]
  },
  {
   "cell_type": "markdown",
   "metadata": {},
   "source": [
    "---\n",
    "## Summary\n",
    "Within this notebook, we covered the basics of gridding radar data using `pyart`, including:\n",
    "- What we mean by gridding and why is it matters\n",
    "- Configuring your gridding routine\n",
    "- Visualize gridded radar data\n",
    "\n",
    "### What's Next\n",
    "In the next few notebooks, we walk through applying data cleaning methods, and advanced visualization methods!"
   ]
  },
  {
   "cell_type": "markdown",
   "metadata": {},
   "source": [
    "## Resources and References\n",
    "Py-ART essentials links:\n",
    "\n",
    "* [Landing page](arm-doe.github.io/pyart/)\n",
    "* [Examples](https://arm-doe.github.io/pyart/examples/index.html)\n",
    "* [Source Code](github.com/ARM-DOE/pyart)\n",
    "* [Mailing list](groups.google.com/group/pyart-users/)\n",
    "* [Issue Tracker](github.com/ARM-DOE/pyart/issues)"
   ]
  }
 ],
 "metadata": {
  "kernelspec": {
   "display_name": "Python 3 (ipykernel)",
   "language": "python",
   "name": "python3"
  },
  "language_info": {
   "codemirror_mode": {
    "name": "ipython",
    "version": 3
   },
   "file_extension": ".py",
   "mimetype": "text/x-python",
   "name": "python",
   "nbconvert_exporter": "python",
   "pygments_lexer": "ipython3",
   "version": "3.12.0"
  }
 },
 "nbformat": 4,
 "nbformat_minor": 4
}
