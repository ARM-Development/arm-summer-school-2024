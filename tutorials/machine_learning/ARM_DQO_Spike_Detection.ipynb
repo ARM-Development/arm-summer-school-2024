{
 "cells": [
  {
   "cell_type": "code",
   "execution_count": 3,
   "id": "e9c70919-0a9f-4f52-83fb-bd3e6a541cd2",
   "metadata": {},
   "outputs": [],
   "source": [
    "# Data Manipulation\n",
    "import numpy as np\n",
    "\n",
    "# Data Preprocessing\n",
    "from sklearn.preprocessing import StandardScaler\n",
    "\n",
    "# Model Training\n",
    "from sklearn.linear_model import LogisticRegression\n",
    "from sklearn.tree import DecisionTreeClassifier\n",
    "from sklearn.ensemble import RandomForestClassifier\n",
    "# Performance Evaluation\n",
    "from sklearn.metrics import confusion_matrix\n",
    "from sklearn.metrics import roc_curve, auc, precision_recall_curve\n",
    "\n",
    "#Plotting\n",
    "import matplotlib.pyplot as plt\n",
    "import plotly.graph_objs as go\n",
    "#Hyperparameter Tunning\n",
    "from sklearn.model_selection import GridSearchCV\n",
    "\n",
    "#Dimensionality Reduction\n",
    "from sklearn.decomposition import PCA "
   ]
  },
  {
   "cell_type": "markdown",
   "id": "35d8e292-7e00-4290-bfbd-72a99652ddab",
   "metadata": {},
   "source": [
    "# Load Data"
   ]
  },
  {
   "cell_type": "code",
   "execution_count": 5,
   "id": "c8d80312-9d2b-4fdc-a0a5-7929bfaa4f4e",
   "metadata": {},
   "outputs": [],
   "source": [
    "# filepath = '/gpfs/wolf2/arm/atm124/world-shared/arm-summer-school-2024/machine_learning/2019_2021'\n",
    "filepath = '../data/ML'\n",
    "X = np.load(f'{filepath}/features_nsametC1.b1_rh_mean_2019_2021.npy')\n",
    "y = np.load(f'{filepath}/label_nsametC1.b1_rh_mean_2019_2021.npy')\n",
    "time = np.load(f'{filepath}/time_nsametC1.b1_rh_mean_2019_2021.npy')\n",
    "data_windows = np.load(f'{filepath}/data_windows_nsametC1.b1_rh_mean_2019_2021.npy')"
   ]
  },
  {
   "cell_type": "markdown",
   "id": "8080b303-bf13-408f-9cd4-4e07113bc033",
   "metadata": {},
   "source": [
    "# Data Splitting"
   ]
  },
  {
   "cell_type": "markdown",
   "id": "6e2c8352-a701-4ba0-bde2-f9d0c830f6a2",
   "metadata": {},
   "source": [
    "**Reference for train_test_split**\\\n",
    "https://scikit-learn.org/stable/modules/generated/sklearn.model_selection.train_test_split.html#sklearn.model_selection.train_test_split"
   ]
  },
  {
   "cell_type": "code",
   "execution_count": null,
   "id": "cab942dc-4290-4de4-a998-ae9edc39a2f3",
   "metadata": {},
   "outputs": [],
   "source": [
    "from sklearn.model_selection import train_test_split\n",
    "random_state = 1265\n",
    "X_train, X_test, y_train, y_test = train_test_split(X, \n",
    "                                                    y,\n",
    "                                                    test_size=0.2, \n",
    "                                                    random_state=random_state,\n",
    "                                                    stratify=y\n",
    "                                                   )"
   ]
  },
  {
   "cell_type": "markdown",
   "id": "463ea90b-d4f5-4077-b478-7461c35cb884",
   "metadata": {},
   "source": [
    "# Model Training"
   ]
  },
  {
   "cell_type": "markdown",
   "id": "bb474f6f-ffcc-4949-bcec-f9ecaa9923f3",
   "metadata": {},
   "source": [
    "## Logistic Regression"
   ]
  },
  {
   "cell_type": "markdown",
   "id": "5ee94396-37dd-4a1a-8a05-d536f504bad3",
   "metadata": {},
   "source": [
    "**Logistic Regression**\\\n",
    "Logistic regression, despite its name, is a linear model for classification rather than regression. Logistic regression is also known in the literature as logit regression, maximum-entropy classification (MaxEnt) or the log-linear classifier. In this model, the probabilities describing the possible outcomes of a single trial are modeled using a logistic function. The implementation of logistic regression in scikit-learn can be accessed from class LogisticRegression. This implementation can fit binary, One-vs- Rest, or multinomial logistic regression with optional L2 or L1 regularization.\n",
    "\n",
    "**Reading Materials**\\\n",
    "https://scikit-learn.org/stable/modules/linear_model.html#logistic-regression"
   ]
  },
  {
   "cell_type": "markdown",
   "id": "b47b49bd-cead-4c55-9be1-8be5d8fc54b5",
   "metadata": {},
   "source": [
    "### Baseline Logistic Regression"
   ]
  },
  {
   "cell_type": "code",
   "execution_count": null,
   "id": "7fbc041b-2aa0-46b9-ba54-ec67b4940e54",
   "metadata": {},
   "outputs": [],
   "source": [
    "# Train a Logistic Regression model using training data\n",
    "lr = LogisticRegression(random_state=5645, max_iter=200).fit(X_train, y_train)\n",
    "# Make predictions using the trained LR model\n",
    "y_train_pred_lr = lr.predict(X_train)\n",
    "# Calculate confusion matrix with training data\n",
    "conf_mx_lr = confusion_matrix(y_train, y_train_pred_lr)\n",
    "conf_mx_lr"
   ]
  },
  {
   "cell_type": "code",
   "execution_count": null,
   "id": "4040eb09-e74a-404d-8706-792ecaeead91",
   "metadata": {},
   "outputs": [],
   "source": [
    "# Evaluate model performance on testing data\n",
    "y_test_pred_lr = lr.predict(X_test)\n",
    "# Calculate confusion matrix with testing data\n",
    "conf_mx_lr_test = confusion_matrix(y_test, y_test_pred_lr)\n",
    "conf_mx_lr_test"
   ]
  },
  {
   "cell_type": "code",
   "execution_count": null,
   "id": "29b33c4c-36ef-4222-abd9-00f1e9b0b638",
   "metadata": {},
   "outputs": [],
   "source": [
    "y_train_pred_prob_lr = lr.predict_proba(X_train)[:,1]\n",
    "y_test_pred_prob_lr = lr.predict_proba(X_test)[:,1]"
   ]
  },
  {
   "cell_type": "code",
   "execution_count": null,
   "id": "dc85fb74-16c9-494e-92ad-c10c3b9de90a",
   "metadata": {},
   "outputs": [],
   "source": [
    "def plot_performance_curves(y_train, y_train_pred_prob, y_test, y_test_pred_prob, postfix='NA'):\n",
    "    \n",
    "    fpr_train, tpr_train, _ = roc_curve(y_train, y_train_pred_prob, pos_label=1)\n",
    "    precision_train, recall_train, _ = precision_recall_curve(y_train, y_train_pred_prob, pos_label=1)\n",
    "\n",
    "    fpr_test, tpr_test, _ = roc_curve(y_test, y_test_pred_prob, pos_label=1)\n",
    "    precision_test, recall_test, _ = precision_recall_curve(y_test, y_test_pred_prob, pos_label=1)\n",
    "    \n",
    "    roc_auc_train = auc(fpr_train, tpr_train)\n",
    "    roc_auc_test  = auc(fpr_test, tpr_test)\n",
    "\n",
    "    pr_auc_train  = auc(recall_train, precision_train)\n",
    "    pr_auc_test   = auc(recall_test, precision_test)\n",
    "    \n",
    "    plt.figure(figsize=(12,5))\n",
    "    plt.subplot(1, 2, 1)\n",
    "    plt.plot(fpr_train, tpr_train, color='darkorange', lw=2, label='ROC curve (area = %0.4f) - Train' % roc_auc_train)\n",
    "    plt.plot(fpr_train, tpr_train, color='orangered', lw=2, label='ROC curve (area = %0.4f) - Test' % roc_auc_test)\n",
    "    plt.plot([0, 1], [0, 1], color='navy', lw=2, linestyle='--')\n",
    "    plt.xlim([0.0, 1.0])\n",
    "    plt.ylim([0.0, 1.05])\n",
    "    plt.xlabel('False Positive Rate')\n",
    "    plt.ylabel('True Positive Rate')\n",
    "    plt.title(f'Receiver Operating Characteristic (ROC) Curve - {postfix}')\n",
    "    plt.legend(loc=\"lower right\")\n",
    "                   \n",
    "    plt.subplot(1, 2, 2)\n",
    "    plt.plot(recall_train, precision_train, color='blue', lw=2, label='Precision-Recall curve (AUC = %0.2f) - Train' % pr_auc_train)\n",
    "    plt.plot(recall_test, precision_test, color='aqua', lw=2, label='Precision-Recall curve (AUC = %0.2f) - Test' % pr_auc_test)\n",
    "    plt.ylim([0.0, 1.05])\n",
    "    plt.xlim([0.0, 1.0])\n",
    "    plt.xlabel('Recall')\n",
    "    plt.ylabel('Precision')\n",
    "    plt.title(f'Precision-Recall Curve - {postfix}')\n",
    "    plt.legend(loc=\"lower left\")\n",
    "\n",
    "    plt.tight_layout()\n",
    "    plt.show()"
   ]
  },
  {
   "cell_type": "code",
   "execution_count": null,
   "id": "ab6eb4a1-9fcd-4c31-b31e-c9cefda04c95",
   "metadata": {},
   "outputs": [],
   "source": [
    "plot_performance_curves(y_train, y_train_pred_prob_lr, y_test, y_test_pred_prob_lr, 'Logistic Regresion')"
   ]
  },
  {
   "cell_type": "markdown",
   "id": "20774530-5059-4284-9b78-508fed9d7f2f",
   "metadata": {},
   "source": [
    "### Penalized Logistic Regression\n",
    "\n",
    "**Ridge**\\\n",
    "Ridge regression addresses some of the problems of Ordinary Least Squares by imposing a penalty on the size of coefficients. The ridge coefficients minimize a penalized residual sum of squares. \n",
    "\n",
    "**Lasso**\\\n",
    "The Lasso is a linear model that estimates sparse coefficients. It is useful in some contexts due to its tendency to prefer solutions with fewer non-zero coefficients, effectively reducing the number of features upon which the given solution is dependent. For this reason, Lasso and its variants are fundamental to the field of compressed sensing. Under certain conditions, it can recover the exact set of non-zero coefficients.\n",
    "\n",
    "**Elastic Net**\\\n",
    "ElasticNet is a linear regression model trained with L1 and L2 prior as regularizer. This combination allows for learning a sparse model where few of the weights are non-zero like Lasso, while still maintaining the regularization properties of Ridge. We control the convex combination of L1 and L2 using the l1_ratio parameter.\n",
    "Elastic-net is useful when there are multiple features which are correlated with one another. Lasso is likely to pick one\n",
    "of these at random, while elastic-net is likely to pick both.\n",
    "\n",
    "**Reading Materials**\\\n",
    "[1] Ridge: https://scikit-learn.org/stable/modules/generated/sklearn.linear_model.Ridge.html#sklearn.linear_model.Ridge\n",
    "\n",
    "[2] Lasso: https://scikit-learn.org/stable/modules/linear_model.html#lasso\n",
    "\n",
    "[3] Elastic Net: https://scikit-learn.org/stable/auto_examples/linear_model/plot_lasso_coordinate_descent_path.html#lasso-and-elastic-net"
   ]
  },
  {
   "cell_type": "code",
   "execution_count": null,
   "id": "91816d89-1dfc-4480-a44c-b5d33366cd3f",
   "metadata": {},
   "outputs": [],
   "source": [
    "lr_penalized = LogisticRegression(random_state=5645,\n",
    "                        max_iter=200,\n",
    "                        penalty='l2', \n",
    "                        C=0.1).fit(X_train, y_train)\n",
    "y_train_pred_lr_penalized = lr_penalized.predict(X_train)\n",
    "np.unique(y_train_pred_lr_penalized, return_counts=True)"
   ]
  },
  {
   "cell_type": "code",
   "execution_count": null,
   "id": "a5981ae1-3a67-4428-8c4c-0f26fb3d8793",
   "metadata": {},
   "outputs": [],
   "source": [
    "conf_mx_lr_penalized = confusion_matrix(y_train, y_train_pred_lr_penalized)\n",
    "conf_mx_lr_penalized"
   ]
  },
  {
   "cell_type": "code",
   "execution_count": null,
   "id": "5f1e37b7-0d4f-4fa6-8840-f8f3bc42d4dc",
   "metadata": {},
   "outputs": [],
   "source": [
    "y_test_pred_lr_penalized = lr_penalized.predict(X_test)\n",
    "conf_mx_lr_penalized_test = confusion_matrix(y_test, y_test_pred_lr_penalized)\n",
    "conf_mx_lr_penalized_test"
   ]
  },
  {
   "cell_type": "code",
   "execution_count": null,
   "id": "481a167b-4243-41c6-893c-1e3a777c58ad",
   "metadata": {},
   "outputs": [],
   "source": [
    "y_train_pred_prob_lr_penalized = lr_penalized.predict_proba(X_train)[:,1]\n",
    "y_test_pred_prob_lr_penalized = lr_penalized.predict_proba(X_test)[:,1]\n",
    "plot_performance_curves(y_train, y_train_pred_prob_lr_penalized, y_test, y_test_pred_prob_lr_penalized, 'Penalized Logistic Regresion')"
   ]
  },
  {
   "cell_type": "markdown",
   "id": "fe3a109e-b7da-4e21-8e4e-e70d2c8a0655",
   "metadata": {},
   "source": [
    "## Decision Tree\n",
    "\n",
    "Decision Trees (DTs) are a non-parametric supervised learning method used for classification and regression. The goal is to create a model that predicts the value of a target variable by learning simple decision rules inferred from the data features. A tree can be seen as a piecewise constant approximation.Decision Trees (DTs) are a non-parametric supervised learning method used for classification and regression. The goal is to create a model that predicts the value of a target variable by learning simple decision rules inferred from the data features. A tree can be seen as a piecewise constant approximation.Decision Trees (DTs) are a non-parametric supervised learning method used for classification and regression. The goal is to create a model that predicts the value of a target variable by learning simple decision rules inferred from the data features. A tree can be seen as a piecewise constant approximation. \n",
    "\n",
    "Reading materials:\n",
    "\n",
    "[1] https://scikit-learn.org/stable/modules/tree.html\n",
    "\n",
    "[2] https://scikit-learn.org/stable/modules/generated/sklearn.tree.DecisionTreeClassifier.html#sklearn.tree.DecisionTreeClassifier"
   ]
  },
  {
   "cell_type": "code",
   "execution_count": null,
   "id": "84fe669b-3d6b-4e4b-acc0-78c710b64c9d",
   "metadata": {},
   "outputs": [],
   "source": [
    "dtree = DecisionTreeClassifier(random_state=5645, criterion='gini')\n",
    "dtree.fit(X_train, y_train)\n",
    "y_train_pred_dtree = dtree.predict(X_train)\n",
    "np.unique(y_train_pred_dtree, return_counts=True)"
   ]
  },
  {
   "cell_type": "code",
   "execution_count": null,
   "id": "5953fa5b-229d-4536-a234-7a2ce366a270",
   "metadata": {},
   "outputs": [],
   "source": [
    "conf_mx_dtree = confusion_matrix(y_train, y_train_pred_dtree)\n",
    "conf_mx_dtree"
   ]
  },
  {
   "cell_type": "code",
   "execution_count": null,
   "id": "246e3832-94d3-4eaf-a04e-7c2465ec0856",
   "metadata": {},
   "outputs": [],
   "source": [
    "# Evaluate model performance on testing data\n",
    "y_test_pred_dtree = dtree.predict(X_test)\n",
    "# Calculate confusion matrix with testing data\n",
    "conf_mx_dtree_test = confusion_matrix(y_test, y_test_pred_dtree)\n",
    "conf_mx_dtree_test"
   ]
  },
  {
   "cell_type": "code",
   "execution_count": null,
   "id": "77287110-976b-49a6-a95d-121f61887bae",
   "metadata": {},
   "outputs": [],
   "source": [
    "y_train_pred_prob_dtree = dtree.predict_proba(X_train)[:,1]\n",
    "y_test_pred_prob_dtree = dtree.predict_proba(X_test)[:,1]\n",
    "plot_performance_curves(y_train, y_train_pred_prob_dtree, y_test, y_test_pred_prob_dtree, 'Decision Tree')"
   ]
  },
  {
   "cell_type": "markdown",
   "id": "2cd682ff-9aff-43ef-b4ea-7ffea069eff3",
   "metadata": {},
   "source": [
    "## Regularized Decision Tree\n",
    "\n",
    "**How to restrict the growth of a Decision Tree**?\n",
    "\n",
    "**Reading Materials**\\\n",
    "https://scikit-learn.org/stable/modules/generated/sklearn.tree.DecisionTreeClassifier.html#sklearn.tree.DecisionTreeClassifier\n"
   ]
  },
  {
   "cell_type": "code",
   "execution_count": null,
   "id": "304a00d6-d1b5-4098-9ee6-307e5ebce838",
   "metadata": {},
   "outputs": [],
   "source": [
    "dtree_regularized = DecisionTreeClassifier(random_state=5645, \n",
    "                                           criterion='gini', \n",
    "                                           max_depth=20, \n",
    "                                           min_samples_split=10,\n",
    "                                           max_features='sqrt',\n",
    "                                           min_samples_leaf = 10\n",
    "                                          )\n",
    "dtree_regularized.fit(X_train, y_train)\n",
    "y_train_pred_dtree_regularized = dtree_regularized.predict(X_train)\n",
    "np.unique(y_train_pred_dtree_regularized, return_counts=True)"
   ]
  },
  {
   "cell_type": "code",
   "execution_count": null,
   "id": "9ff10eb9-c476-43a7-aab2-b736f3869e29",
   "metadata": {},
   "outputs": [],
   "source": [
    "conf_mx_dtree_regularized = confusion_matrix(y_train, y_train_pred_dtree_regularized)\n",
    "conf_mx_dtree_regularized"
   ]
  },
  {
   "cell_type": "code",
   "execution_count": null,
   "id": "44039908-d567-44da-9141-97fd89cb41a6",
   "metadata": {},
   "outputs": [],
   "source": [
    "# Evaluate model performance on testing data\n",
    "y_test_pred_dtree_regularized = dtree_regularized.predict(X_test)\n",
    "# Calculate confusion matrix with testing data\n",
    "conf_mx_dtree_regularized_test = confusion_matrix(y_test, y_test_pred_dtree_regularized)\n",
    "conf_mx_dtree_regularized_test"
   ]
  },
  {
   "cell_type": "code",
   "execution_count": null,
   "id": "34c02ba8-c613-48b8-9ffe-7e50b939668d",
   "metadata": {},
   "outputs": [],
   "source": [
    "y_train_pred_prob_dtree_regularized = dtree_regularized.predict_proba(X_train)[:,1]\n",
    "y_test_pred_prob_dtree_regularized = dtree_regularized.predict_proba(X_test)[:,1]\n",
    "plot_performance_curves(y_train, y_train_pred_prob_dtree_regularized, y_test, y_test_pred_prob_dtree_regularized, 'Regularized Decision Tree')"
   ]
  },
  {
   "cell_type": "markdown",
   "id": "1307a1ac-ff41-48d9-8e87-ac765ad00341",
   "metadata": {},
   "source": [
    "## Random Forest\n",
    "\n",
    "In random forests, each tree in the ensemble is built from a sample drawn with replacement (i.e., a bootstrap sample) from the training set.\n",
    "\n",
    "Furthermore, when splitting each node during the construction of a tree, the best split is found through an exhaustive search of the features values of either all input features or a random subset of size max_features. \n",
    "\n",
    "The purpose of these two sources of randomness is to decrease the variance of the forest estimator. Indeed, individual decision trees typically exhibit high variance and tend to overfit. The injected randomness in forests yield decision trees with somewhat decoupled prediction errors. By taking an average of those predictions, some errors can cancel out. Random forests achieve a reduced variance by combining diverse trees, sometimes at the cost of a slight increase in bias. In practice the variance reduction is often significant hence yielding an overall better model.\n",
    "\n",
    "**Reading Materials**\\\n",
    "[1] https://scikit-learn.org/stable/modules/ensemble.html#random-forests\n",
    "[2] https://scikit-learn.org/stable/modules/generated/sklearn.ensemble.RandomForestClassifier.html#sklearn.ensemble.RandomForestClassifier"
   ]
  },
  {
   "cell_type": "code",
   "execution_count": null,
   "id": "5332e056-e20c-4539-9b9d-211dc9cca1f3",
   "metadata": {},
   "outputs": [],
   "source": [
    "rnd= RandomForestClassifier(n_jobs = -1, random_state=1110)\n",
    "rnd.fit(X_train, y_train)\n",
    "y_train_pred_rnd = rnd.predict(X_train)\n",
    "conf_mx_rnd = confusion_matrix(y_train, y_train_pred_rnd)\n",
    "conf_mx_rnd"
   ]
  },
  {
   "cell_type": "code",
   "execution_count": null,
   "id": "97d12afc-bbbb-4330-9044-1a5d787c572f",
   "metadata": {},
   "outputs": [],
   "source": [
    "y_test_pred_rnd = rnd.predict(X_test)\n",
    "conf_mx_rnd_test = confusion_matrix(y_test, y_test_pred_rnd)\n",
    "conf_mx_rnd_test"
   ]
  },
  {
   "cell_type": "code",
   "execution_count": null,
   "id": "52d331b5-be11-466d-b5c1-f7d269fb41a6",
   "metadata": {},
   "outputs": [],
   "source": [
    "y_train_pred_prob_rnd = rnd.predict_proba(X_train)[:,1]\n",
    "y_test_pred_prob_rnd = rnd.predict_proba(X_test)[:,1]\n",
    "plot_performance_curves(y_train, y_train_pred_prob_rnd, y_test, y_test_pred_prob_rnd, 'Random Forest')"
   ]
  },
  {
   "cell_type": "markdown",
   "id": "923ed841-adc1-4570-825b-da99d35205a6",
   "metadata": {},
   "source": [
    "## Random Forest - Hyperparameter Tunning\n",
    "\n",
    "**Reading Materials**\\\n",
    "[1] \n",
    "https://scikit-learn.org/stable/modules/generated/sklearn.model_selection.GridSearchCV.html#sklearn.model_selection.GridSearchCV\n",
    "\n",
    "[2] https://scikit-learn.org/stable/modules/classes.html#hyper-parameter-optimizers"
   ]
  },
  {
   "cell_type": "code",
   "execution_count": null,
   "id": "be8b1cf3-a2dc-4959-bc52-b9b8ffa03dfc",
   "metadata": {},
   "outputs": [],
   "source": [
    "param_grid_rnd = [{\n",
    "    'max_leaf_nodes':[50, 100],\n",
    "    'min_samples_leaf':[1, 20],\n",
    "    'n_estimators':[100, 500],\n",
    "    'max_features':[\"sqrt\", None],\n",
    "    'criterion': [\"entropy\"]\n",
    "}]\n",
    "\n",
    "rnd_grid = GridSearchCV(rnd, param_grid_rnd, cv=3)\n",
    "rnd_grid.fit(X_train, y_train)"
   ]
  },
  {
   "cell_type": "code",
   "execution_count": null,
   "id": "3c30c698-4bfd-4538-9126-695341a8a5f0",
   "metadata": {},
   "outputs": [],
   "source": [
    "rnd_grid.best_estimator_, rnd_grid.best_params_"
   ]
  },
  {
   "cell_type": "code",
   "execution_count": null,
   "id": "13d63b22-086b-4ff7-a445-ce0fbc66b268",
   "metadata": {},
   "outputs": [],
   "source": [
    "y_train_pred_rnd_grid = rnd_grid.predict(X_train)\n",
    "conf_mx_rnd_grid = confusion_matrix(y_train, y_train_pred_rnd_grid)\n",
    "conf_mx_rnd_grid"
   ]
  },
  {
   "cell_type": "code",
   "execution_count": null,
   "id": "e7085191-4db9-4336-bfc0-24478b47da8a",
   "metadata": {},
   "outputs": [],
   "source": [
    "y_test_pred_rnd_grid = rnd_grid.predict(X_test)\n",
    "conf_mx_rnd_grid_test = confusion_matrix(y_test, y_test_pred_rnd_grid)\n",
    "conf_mx_rnd_grid_test"
   ]
  },
  {
   "cell_type": "code",
   "execution_count": null,
   "id": "7c253714-1095-4a22-b586-d29a53f2698e",
   "metadata": {},
   "outputs": [],
   "source": [
    "y_train_pred_prob_rnd_grid = rnd_grid.predict_proba(X_train)[:,1]\n",
    "y_test_pred_prob_rnd_grid = rnd_grid.predict_proba(X_test)[:,1]\n",
    "plot_performance_curves(y_train, y_train_pred_prob_rnd_grid, y_test, y_test_pred_prob_rnd_grid, 'Random Forest - 3 Fold CV')"
   ]
  },
  {
   "cell_type": "markdown",
   "id": "cd7f79af-8002-4f22-941d-b3610d57870d",
   "metadata": {},
   "source": [
    "## Use the best parameter values to build a Random Forest"
   ]
  },
  {
   "cell_type": "code",
   "execution_count": null,
   "id": "3d97a8d6-d0f7-4bd0-b16c-3addfbfe4272",
   "metadata": {},
   "outputs": [],
   "source": [
    "rnd_select = RandomForestClassifier(n_jobs = -1, \n",
    "                                      random_state=1110,\n",
    "                                      max_leaf_nodes=100,\n",
    "                                      min_samples_leaf=1,\n",
    "                                      max_features = 'sqrt',\n",
    "                                      n_estimators=500,\n",
    "                                      criterion='entropy',\n",
    "                                     )\n",
    "rnd_select.fit(X_train, y_train)"
   ]
  },
  {
   "cell_type": "code",
   "execution_count": null,
   "id": "619e81dc-d3bb-4e42-a1c1-6fa2128ff14a",
   "metadata": {},
   "outputs": [],
   "source": [
    "y_train_pred_rnd_select = rnd_select.predict(X_train)\n",
    "np.unique(y_train_pred_rnd_select, return_counts=True)"
   ]
  },
  {
   "cell_type": "code",
   "execution_count": null,
   "id": "70582c8e-97d4-41d6-b782-78f1953b4dcb",
   "metadata": {},
   "outputs": [],
   "source": [
    "y_test_pred_rnd_select = rnd_select.predict(X_test)\n",
    "np.unique(y_test_pred_rnd_select, return_counts=True)"
   ]
  },
  {
   "cell_type": "code",
   "execution_count": null,
   "id": "1a062927-84fc-4afc-8c03-f46dc7533d90",
   "metadata": {},
   "outputs": [],
   "source": [
    "conf_mx_rnd_select = confusion_matrix(y_train, y_train_pred_rnd_select)\n",
    "conf_mx_rnd_select"
   ]
  },
  {
   "cell_type": "code",
   "execution_count": null,
   "id": "e332a288-445b-4ed9-b943-932f38bd3fc2",
   "metadata": {},
   "outputs": [],
   "source": [
    "conf_mx_rnd_select_test = confusion_matrix(y_test, y_test_pred_rnd_select)\n",
    "conf_mx_rnd_select_test"
   ]
  },
  {
   "cell_type": "code",
   "execution_count": null,
   "id": "c5cc98ce-be17-4dcd-8825-d6aa79a08000",
   "metadata": {},
   "outputs": [],
   "source": [
    "y_train_pred_prob_rnd_select = rnd_select.predict_proba(X_train)[:,1]\n",
    "y_test_pred_prob_rnd_select = rnd_select.predict_proba(X_test)[:,1]\n",
    "plot_performance_curves(y_train, y_train_pred_prob_rnd_select, y_test, y_test_pred_prob_rnd_select, 'Random Forest - Best Parameters')"
   ]
  },
  {
   "cell_type": "markdown",
   "id": "ee05acb0-aaa8-49f1-a9f3-ef5f87a63440",
   "metadata": {},
   "source": [
    "# Dimensionality Reduction - PCA\n",
    "\n",
    "**Principal component analysis (PCA)**\n",
    "\n",
    "Linear dimensionality reduction using Singular Value Decomposition of the data to project it to a lower dimensional space.\n",
    "\n",
    "**Reading Materials**\\\n",
    "[1]https://scikit-learn.org/stable/modules/generated/sklearn.decomposition.PCA.html#sklearn.decomposition.PCA\n",
    "\n",
    "[2]https://scikit-learn.org/stable/auto_examples/decomposition/plot_pca_iris.html#sphx-glr-auto-examples-decomposition-plot-pca-iris-py"
   ]
  },
  {
   "cell_type": "markdown",
   "id": "112c7588-ec17-4f5e-a68f-088373bdcac7",
   "metadata": {},
   "source": [
    "## PCA for Visualization"
   ]
  },
  {
   "cell_type": "code",
   "execution_count": null,
   "id": "67400415-5036-4cda-911c-909e530ec540",
   "metadata": {},
   "outputs": [],
   "source": [
    "scaler = StandardScaler()\n",
    "X_scaled = scaler.fit_transform(X)\n",
    "pca = PCA()\n",
    "transformed_X = pca.fit_transform(X_scaled)"
   ]
  },
  {
   "cell_type": "code",
   "execution_count": null,
   "id": "daae3c2e-ff71-4edf-b43f-3bbc1170f9dd",
   "metadata": {},
   "outputs": [],
   "source": [
    "pca.explained_variance_ratio_, sum(pca.explained_variance_ratio_[:5])"
   ]
  },
  {
   "cell_type": "code",
   "execution_count": null,
   "id": "98737ff6-77a3-49c1-a650-2ebacb7336b2",
   "metadata": {},
   "outputs": [],
   "source": [
    "# fig = go.Figure(data=[go.Scatter3d(\n",
    "#     x=transformed_X[:, 0],\n",
    "#     y=transformed_X[:, 1],\n",
    "#     z=transformed_X[:, 2],\n",
    "#     mode='markers',\n",
    "#     marker=dict(\n",
    "#         size=2,\n",
    "#         color=y,  # Color by class label\n",
    "#         colorscale='Viridis',\n",
    "#         opacity=0.5\n",
    "#     ),\n",
    "#     text=['Class: {}'.format(label) for label in y],\n",
    "# )])\n",
    "\n",
    "# # Set layout\n",
    "# fig.update_layout(scene=dict(\n",
    "#     xaxis_title='Principal Component 1',\n",
    "#     yaxis_title='Principal Component 2',\n",
    "#     zaxis_title='Principal Component 3',\n",
    "# ), title='3D Scatter Plot of First 3 Principal Components')\n",
    "\n",
    "# fig.update_layout(width=800, height=600)\n",
    "# fig.show()"
   ]
  },
  {
   "cell_type": "markdown",
   "id": "3973acde-a623-42d4-838c-25c343eac33c",
   "metadata": {},
   "source": [
    "## PCA Model Training - Random Forest"
   ]
  },
  {
   "cell_type": "code",
   "execution_count": null,
   "id": "8b366673-c283-453f-b584-5477b7af3879",
   "metadata": {},
   "outputs": [],
   "source": [
    "scaler = StandardScaler()\n",
    "X_train_scaled = scaler.fit_transform(X_train)\n",
    "X_test_scaled = scaler.transform(X_test)\n",
    "pca_train = PCA(n_components=3)\n",
    "transformed_X_Train = pca_train.fit_transform(X_train_scaled)\n",
    "transformed_X_Test = pca_train.transform(X_test_scaled)\n",
    "rnd_pca = RandomForestClassifier(n_jobs = -1, \n",
    "                                      random_state=1110,\n",
    "                                      max_leaf_nodes=100,\n",
    "                                      min_samples_leaf=1,\n",
    "                                      max_features = 'sqrt',\n",
    "                                      n_estimators=500,\n",
    "                                      criterion='entropy'\n",
    "                                     )\n",
    "rnd_pca.fit(transformed_X_Train, y_train)"
   ]
  },
  {
   "cell_type": "code",
   "execution_count": null,
   "id": "74110040-9dc1-4c7d-ace8-b916c0a69fad",
   "metadata": {},
   "outputs": [],
   "source": [
    "y_train_pred_rnd_pca = rnd_pca.predict(transformed_X_Train)\n",
    "np.unique(y_train_pred_rnd_pca, return_counts=True)"
   ]
  },
  {
   "cell_type": "code",
   "execution_count": null,
   "id": "60c74cf3-5802-479a-a69e-02a86d70f6e5",
   "metadata": {},
   "outputs": [],
   "source": [
    "y_test_pred_rnd_pca = rnd_pca.predict(transformed_X_Test)\n",
    "np.unique(y_test_pred_rnd_pca, return_counts=True)"
   ]
  },
  {
   "cell_type": "code",
   "execution_count": null,
   "id": "d6557c3b-04b9-4e28-8491-e5afa075451c",
   "metadata": {},
   "outputs": [],
   "source": [
    "conf_mx_rnd_pca = confusion_matrix(y_train, y_train_pred_rnd_pca)\n",
    "conf_mx_rnd_pca"
   ]
  },
  {
   "cell_type": "code",
   "execution_count": null,
   "id": "f6b3f71e-033a-441a-ab36-82217cfccbfa",
   "metadata": {},
   "outputs": [],
   "source": [
    "conf_mx_rnd_pca_test = confusion_matrix(y_test, y_test_pred_rnd_pca)\n",
    "conf_mx_rnd_pca_test"
   ]
  },
  {
   "cell_type": "code",
   "execution_count": null,
   "id": "2e0c21a0-88aa-4163-aca0-0ddcb830b6a6",
   "metadata": {},
   "outputs": [],
   "source": [
    "y_train_pred_prob_rnd_pca = rnd_pca.predict_proba(transformed_X_Train)[:,1]\n",
    "y_test_pred_prob_rnd_pca = rnd_pca.predict_proba(transformed_X_Test)[:,1]\n",
    "plot_performance_curves(y_train, y_train_pred_prob_rnd_pca, y_test, y_test_pred_prob_rnd_pca, 'Random Forest - PCA')"
   ]
  },
  {
   "cell_type": "code",
   "execution_count": null,
   "id": "deceeb5f-fab4-436c-9c32-6e4920361281",
   "metadata": {},
   "outputs": [],
   "source": []
  },
  {
   "cell_type": "code",
   "execution_count": null,
   "id": "b4fd98e5-788b-4f81-8e7d-6c22a27839cd",
   "metadata": {},
   "outputs": [],
   "source": []
  }
 ],
 "metadata": {
  "kernelspec": {
   "display_name": "Python 3 (ipykernel)",
   "language": "python",
   "name": "python3"
  },
  "language_info": {
   "codemirror_mode": {
    "name": "ipython",
    "version": 3
   },
   "file_extension": ".py",
   "mimetype": "text/x-python",
   "name": "python",
   "nbconvert_exporter": "python",
   "pygments_lexer": "ipython3",
   "version": "3.11.4"
  },
  "toc": {
   "base_numbering": 1,
   "nav_menu": {},
   "number_sections": true,
   "sideBar": true,
   "skip_h1_title": false,
   "title_cell": "Table of Contents",
   "title_sidebar": "Contents",
   "toc_cell": false,
   "toc_position": {},
   "toc_section_display": true,
   "toc_window_display": false
  }
 },
 "nbformat": 4,
 "nbformat_minor": 5
}
